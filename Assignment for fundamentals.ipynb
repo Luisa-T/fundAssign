{
 "cells": [
  {
   "cell_type": "markdown",
   "metadata": {},
   "source": [
    "# Anscombe's quartett dataset"
   ]
  },
  {
   "cell_type": "markdown",
   "metadata": {},
   "source": [
    "This notebook aims to carry out the following four tasks:\n",
    "1. Explain the background of the dataset, who created it, when was it created, and any speculation you can find regarding how it may have been created.\n",
    "2. Plot the interesting aspects of the dataset.\n",
    "3. Calculate the descriptive statistics of the variables in the dataset.\n",
    "4. Explaim why the dataset is interesting, referring to the plots and statistics above."
   ]
  },
  {
   "cell_type": "markdown",
   "metadata": {},
   "source": [
    "### Task 1: The Anscombe quartet and its origin"
   ]
  },
  {
   "cell_type": "markdown",
   "metadata": {},
   "source": [
    "Anscombe's quartett consists of four datasets with almost identical descriptive statistics, but when each dataset is displayed graphically they are displayed very differently [1]. Each dataset includes eleven x,y coordinates [1].\n",
    "The statistician Francis Anscombe created the dataset in 1973 to show the following two points:\n",
    "1. The importance to use graphs before analysing the data\n",
    "2. Statisical propertties can be effected by outliers [1].\n",
    "The dataset counters the common impression among statisticians that:\"\n",
    "1. numerical calculations are exact, but graphs are rough;\n",
    "2. for any particular kind of statistical data there is just one set of calculations consituting a correct statistical analysis;\n",
    "3. performing intricate calculations is virtuous, whereas actually looking at the data is cheating.\" [2, p. 17].\n",
    "How the datasets were created is not known but"
   ]
  },
  {
   "cell_type": "markdown",
   "metadata": {},
   "source": [
    "References:\n",
    "[1] Wikipedia:\n",
    "[2] Anscombe, Francis J. Graphs in Statisical Analysis, The Americal Statisitcian, Volume 27,pp. 17-21. 2012."
   ]
  }
 ],
 "metadata": {
  "kernelspec": {
   "display_name": "Python 3",
   "language": "python",
   "name": "python3"
  },
  "language_info": {
   "codemirror_mode": {
    "name": "ipython",
    "version": 3
   },
   "file_extension": ".py",
   "mimetype": "text/x-python",
   "name": "python",
   "nbconvert_exporter": "python",
   "pygments_lexer": "ipython3",
   "version": "3.6.5"
  }
 },
 "nbformat": 4,
 "nbformat_minor": 2
}
